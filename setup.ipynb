{
 "cells": [
  {
   "cell_type": "code",
   "execution_count": 1,
   "metadata": {
    "vscode": {
     "languageId": "shellscript"
    }
   },
   "outputs": [],
   "source": [
    "export VAULT_ADDR=<VAULT_HCP_PUBLIC_URL>\n",
    "export VAULT_NAMESPACE=admin\n",
    "export VAULT_TOKEN=<VAULT_HCP_ROOT_TOKEN>"
   ]
  },
  {
   "cell_type": "code",
   "execution_count": 12,
   "metadata": {
    "vscode": {
     "languageId": "shellscript"
    }
   },
   "outputs": [
    {
     "name": "stdout",
     "output_type": "stream",
     "text": [
      "\u001b[0mSuccess! Data written to: auth/jwt/config\u001b[0m\n"
     ]
    }
   ],
   "source": [
    "vault write auth/jwt/config \\\n",
    "    jwks_url=\"https://gitlab.com/-/jwks\" \\\n",
    "    bound_issuer=\"https://gitlab.com\""
   ]
  },
  {
   "cell_type": "code",
   "execution_count": 3,
   "metadata": {
    "vscode": {
     "languageId": "shellscript"
    }
   },
   "outputs": [
    {
     "name": "stdout",
     "output_type": "stream",
     "text": [
      "\u001b[0mSuccess! Uploaded policy: myproject-production\u001b[0m\n"
     ]
    }
   ],
   "source": [
    "vault policy write myproject-production - <<EOF\n",
    "# Read-only permission on 'ops/data/production/*' path\n",
    "\n",
    "path \"ops/data/production/*\" {\n",
    "  capabilities = [ \"read\" ]\n",
    "}\n",
    "EOF"
   ]
  },
  {
   "cell_type": "code",
   "execution_count": 5,
   "metadata": {
    "vscode": {
     "languageId": "shellscript"
    }
   },
   "outputs": [
    {
     "name": "stdout",
     "output_type": "stream",
     "text": [
      "\u001b[0mSuccess! Data written to: auth/jwt/role/myproject-production\u001b[0m\n"
     ]
    }
   ],
   "source": [
    "vault write auth/jwt/role/myproject-production - <<EOF\n",
    "{\n",
    "  \"role_type\": \"jwt\",\n",
    "  \"policies\": [\"myproject-production\"],\n",
    "  \"token_explicit_max_ttl\": 60,\n",
    "  \"user_claim\": \"user_email\",\n",
    "  \"bound_claims\": {\n",
    "    \"project_id\": \"<PROJECT_ID>\",\n",
    "    \"ref\": \"main\",\n",
    "    \"ref_type\": \"branch\"\n",
    "  },\n",
    "  \"bound_audience\": \"https://gitlab.com\"\n",
    "}\n",
    "EOF"
   ]
  }
 ],
 "metadata": {
  "kernelspec": {
   "display_name": "Bash",
   "language": "bash",
   "name": "bash"
  },
  "language_info": {
   "codemirror_mode": "shell",
   "file_extension": ".sh",
   "mimetype": "text/x-sh",
   "name": "bash"
  }
 },
 "nbformat": 4,
 "nbformat_minor": 2
}
